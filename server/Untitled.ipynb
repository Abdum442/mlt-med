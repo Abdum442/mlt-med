{
 "cells": [
  {
   "cell_type": "code",
   "execution_count": 3,
   "id": "709290b2",
   "metadata": {},
   "outputs": [
    {
     "name": "stderr",
     "output_type": "stream",
     "text": [
      "UsageError: Cell magic `%%letex` not found.\n"
     ]
    }
   ],
   "source": [
    "%%letex\n",
    "\n",
    "$$ c = \\sqrt{b^2 - 4 a c} $$"
   ]
  },
  {
   "cell_type": "code",
   "execution_count": null,
   "id": "be76801e",
   "metadata": {},
   "outputs": [],
   "source": []
  }
 ],
 "metadata": {
  "kernelspec": {
   "display_name": "Python 3 (ipykernel)",
   "language": "python",
   "name": "python3"
  },
  "language_info": {
   "codemirror_mode": {
    "name": "ipython",
    "version": 3
   },
   "file_extension": ".py",
   "mimetype": "text/x-python",
   "name": "python",
   "nbconvert_exporter": "python",
   "pygments_lexer": "ipython3",
   "version": "3.9.12"
  }
 },
 "nbformat": 4,
 "nbformat_minor": 5
}
